{
 "cells": [
  {
   "cell_type": "code",
   "execution_count": 58,
   "metadata": {},
   "outputs": [],
   "source": [
    "import numpy as np\n",
    "import seaborn as sns\n",
    "\n",
    "from bam_poses.data.person import Person\n",
    "from bam_poses.data.group import Group"
   ]
  },
  {
   "cell_type": "code",
   "execution_count": 64,
   "metadata": {},
   "outputs": [
    {
     "name": "stderr",
     "output_type": "stream",
     "text": [
      "100%|██████████| 18/18 [00:00<00:00, 31.60it/s]\n"
     ]
    }
   ],
   "source": [
    "tracks = Person.load_for_dataset(dataset=\"A\")\n",
    "group = Group(tracks)\n",
    "poses, masks = group.get_splits(length=100, non_overlapping=True) # 4sec*25Hz=100 frames"
   ]
  },
  {
   "cell_type": "code",
   "execution_count": 9,
   "metadata": {},
   "outputs": [
    {
     "data": {
      "text/plain": [
       "((1289, 18, 100, 18, 3), (1289, 18, 100, 18, 1))"
      ]
     },
     "execution_count": 9,
     "metadata": {},
     "output_type": "execute_result"
    }
   ],
   "source": [
    "poses.shape, masks.shape"
   ]
  },
  {
   "cell_type": "markdown",
   "metadata": {},
   "source": [
    "# Exploratory Data Analysis\n",
    "\n",
    "working hypothesis: mask=0 means not present, mask=1 means present"
   ]
  },
  {
   "cell_type": "code",
   "execution_count": 31,
   "metadata": {},
   "outputs": [
    {
     "name": "stdout",
     "output_type": "stream",
     "text": [
      "all persons 23202\n"
     ]
    }
   ],
   "source": [
    "n_scenes, n_persons, n_frames, n_joints, n_dim = poses.shape\n",
    "all_persons = n_scenes*n_persons\n",
    "print(\"all persons\", all_persons)"
   ]
  },
  {
   "cell_type": "code",
   "execution_count": 33,
   "metadata": {},
   "outputs": [
    {
     "name": "stdout",
     "output_type": "stream",
     "text": [
      "fraction of all persons that are fully visible during the whole scene 22.132%\n"
     ]
    }
   ],
   "source": [
    "print(f\"fraction of all persons that are fully visible during the whole scene {masks.reshape(-1, 100*18).min(axis=1).sum()/all_persons:.3%}\")"
   ]
  },
  {
   "cell_type": "code",
   "execution_count": 36,
   "metadata": {},
   "outputs": [
    {
     "name": "stdout",
     "output_type": "stream",
     "text": [
      "fraction of all persons that have 0 visible joints during the whole scene 0.000%\n"
     ]
    }
   ],
   "source": [
    "print(f\"fraction of all persons that have 0 visible joints during the whole scene {1 - masks.reshape(-1, 100*18).max(axis=1).sum()/all_persons:.3%}\")"
   ]
  },
  {
   "cell_type": "code",
   "execution_count": null,
   "metadata": {},
   "outputs": [
    {
     "data": {
      "text/plain": [
       "0.2820197013667404"
      ]
     },
     "metadata": {},
     "output_type": "display_data"
    }
   ],
   "source": [
    "np.mean(masks)"
   ]
  },
  {
   "cell_type": "code",
   "execution_count": null,
   "metadata": {},
   "outputs": [
    {
     "data": {
      "text/plain": [
       "1.0"
      ]
     },
     "metadata": {},
     "output_type": "display_data"
    }
   ],
   "source": [
    "print(\"mean mask value for the 18th joint\")\n",
    "np.mean(masks[:, :, :, 17, :])"
   ]
  },
  {
   "cell_type": "code",
   "execution_count": 52,
   "metadata": {},
   "outputs": [
    {
     "name": "stdout",
     "output_type": "stream",
     "text": [
      "histogram over the number of fully visible people per scene\n"
     ]
    },
    {
     "data": {
      "image/png": "[encoded data removed]",
      "text/plain": [
       "<Figure size 432x288 with 1 Axes>"
      ]
     },
     "metadata": {
      "needs_background": "light"
     },
     "output_type": "display_data"
    }
   ],
   "source": [
    "_ = np.unique(masks.reshape(n_scenes, n_persons, -1).min(axis=2).sum(axis=1), return_counts=True)\n",
    "#print(\"histogram over the number of fully visible people per scene\")\n",
    "sns.barplot(x=_[0], y=_[1]).set(xlabel=\"#fully visible persons\", ylabel=\"#scenes\", title=\"persons per scene in bam_poses A\");"
   ]
  },
  {
   "cell_type": "code",
   "execution_count": 61,
   "metadata": {},
   "outputs": [],
   "source": [
    "# offline version with stats, similar to the online versio in data_bam_poses.py\n",
    "\n",
    "def squeeze_and_remove_missing(poses, masks, print_diagnostics=True):\n",
    "    \"\"\"Remove all persons from scenes that are not fully visible the entire time (i.e. at least one joint mask is 0 at some point). The visible persons are grouped together and moved to the top so that a scene always consists of n visible persons followed by (18-n) nan entries.\n",
    "\n",
    "    Parameters\n",
    "    ----------\n",
    "    poses : np.ndarray\n",
    "        poses from bam_poses\n",
    "    masks : np.ndarray\n",
    "        masks from bam_poses\n",
    "    print_diagnostics : bool, optional\n",
    "        print stats, by default True\n",
    "\n",
    "    Returns\n",
    "    -------\n",
    "    np.ndarray\n",
    "        same shape as poses and np.nan for all missing persons.\n",
    "    \"\"\"\n",
    "    n_scenes, n_persons, n_frames, n_joints, n_dim = poses.shape\n",
    "\n",
    "    data = np.full_like(poses, np.nan) # fill all missing persons with nan\n",
    "    fully_present_ctr, partial_ctr, only_one_ctr, fully_missing_ctr = 0, 0, 0, 0\n",
    "    for iscene in range(n_scenes):\n",
    "        \n",
    "        people = []\n",
    "        for iperson in range(n_persons):\n",
    "            # select people that are fully present\n",
    "            mean_mask = np.mean(masks[iscene, iperson, :, :, :])\n",
    "            if mean_mask > 0.999:\n",
    "                fully_present_ctr += 1\n",
    "                people.append(poses[iscene, iperson])\n",
    "            elif mean_mask < 0.001:\n",
    "                fully_missing_ctr += 1\n",
    "            elif mean_mask <= (1/18 + 0.001):\n",
    "                only_one_ctr += 1\n",
    "            else:\n",
    "                partial_ctr += 1\n",
    "        \n",
    "        # add all fully present people\n",
    "        for iperson, person in enumerate(people):\n",
    "            data[iscene, iperson] = person\n",
    "\n",
    "        # the rest of all person entries will be nan\n",
    "\n",
    "    all_persons = n_scenes*n_persons\n",
    "    if print_diagnostics:\n",
    "        print(f\"total persons (n_scenes*n_persons): {all_persons}\")\n",
    "        print(f\"persons with 18 joints: {fully_present_ctr/all_persons:.2%}\")\n",
    "        print(f\"persons with 2-17 joints: {partial_ctr/all_persons:.2%}\")\n",
    "        print(f\"persons with 1 joint: {only_one_ctr/all_persons:.2%}\")\n",
    "        print(f\"persons with 0 joints: {fully_missing_ctr/all_persons:.2%}\")\n",
    "\n",
    "    return data\n"
   ]
  },
  {
   "cell_type": "code",
   "execution_count": 60,
   "metadata": {},
   "outputs": [
    {
     "name": "stderr",
     "output_type": "stream",
     "text": [
      "100%|██████████| 1289/1289 [00:00<00:00, 3709.85it/s]"
     ]
    },
    {
     "name": "stdout",
     "output_type": "stream",
     "text": [
      "total persons (n_scenes*n_persons): 23202\n",
      "persons with 18 joints: 22.13%\n",
      "persons with 2-17 joints: 2.72%\n",
      "persons with 1 joint: 75.15%\n",
      "persons with 0 joints: 0.00%\n"
     ]
    },
    {
     "name": "stderr",
     "output_type": "stream",
     "text": [
      "\n"
     ]
    }
   ],
   "source": [
    "data = squeeze_and_remove_missing(poses, masks)"
   ]
  }
 ],
 "metadata": {
  "kernelspec": {
   "display_name": "Python 3.7.3 ('mrt')",
   "language": "python",
   "name": "python3"
  },
  "language_info": {
   "codemirror_mode": {
    "name": "ipython",
    "version": 3
   },
   "file_extension": ".py",
   "mimetype": "text/x-python",
   "name": "python",
   "nbconvert_exporter": "python",
   "pygments_lexer": "ipython3",
   "version": "3.7.3"
  },
  "orig_nbformat": 4,
  "vscode": {
   "interpreter": {
    "hash": "f4532ebce0b4b301733262556a74812245e8f602ddf4186121d83845102b8fae"
   }
  }
 },
 "nbformat": 4,
 "nbformat_minor": 2
}
